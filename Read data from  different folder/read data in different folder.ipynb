{
 "cells": [
  {
   "cell_type": "code",
   "execution_count": 1,
   "id": "1a616944-ae1b-4d68-a191-57bf43c0bebb",
   "metadata": {},
   "outputs": [],
   "source": [
    "import polars as pl\n",
    "\n",
    "df = pl.read_excel(\"taxi/*/*/*.xlsx\") "
   ]
  },
  {
   "cell_type": "code",
   "execution_count": 2,
   "id": "fc744c12-ba57-49f3-b522-7c658e21ad03",
   "metadata": {},
   "outputs": [
    {
     "data": {
      "text/html": [
       "<div><style>\n",
       ".dataframe > thead > tr,\n",
       ".dataframe > tbody > tr {\n",
       "  text-align: right;\n",
       "  white-space: pre-wrap;\n",
       "}\n",
       "</style>\n",
       "<small>shape: (81, 7)</small><table border=\"1\" class=\"dataframe\"><thead><tr><th>No</th><th>Length</th><th>Tips</th><th>Payment</th><th>Year</th><th>Month</th><th>Taxi</th></tr><tr><td>i64</td><td>i64</td><td>i64</td><td>i64</td><td>i64</td><td>i64</td><td>str</td></tr></thead><tbody><tr><td>7</td><td>3</td><td>6</td><td>8</td><td>2009</td><td>2</td><td>&quot;A&quot;</td></tr><tr><td>8</td><td>4</td><td>7</td><td>9</td><td>2009</td><td>2</td><td>&quot;A&quot;</td></tr><tr><td>9</td><td>5</td><td>8</td><td>10</td><td>2009</td><td>2</td><td>&quot;A&quot;</td></tr><tr><td>7</td><td>3</td><td>6</td><td>8</td><td>2009</td><td>1</td><td>&quot;A&quot;</td></tr><tr><td>8</td><td>4</td><td>7</td><td>9</td><td>2009</td><td>1</td><td>&quot;A&quot;</td></tr><tr><td>&hellip;</td><td>&hellip;</td><td>&hellip;</td><td>&hellip;</td><td>&hellip;</td><td>&hellip;</td><td>&hellip;</td></tr><tr><td>8</td><td>4</td><td>7</td><td>9</td><td>2011</td><td>1</td><td>&quot;C&quot;</td></tr><tr><td>9</td><td>5</td><td>8</td><td>10</td><td>2011</td><td>1</td><td>&quot;C&quot;</td></tr><tr><td>7</td><td>3</td><td>6</td><td>8</td><td>2011</td><td>3</td><td>&quot;C&quot;</td></tr><tr><td>8</td><td>4</td><td>7</td><td>9</td><td>2011</td><td>3</td><td>&quot;C&quot;</td></tr><tr><td>9</td><td>5</td><td>8</td><td>10</td><td>2011</td><td>3</td><td>&quot;C&quot;</td></tr></tbody></table></div>"
      ],
      "text/plain": [
       "shape: (81, 7)\n",
       "┌─────┬────────┬──────┬─────────┬──────┬───────┬──────┐\n",
       "│ No  ┆ Length ┆ Tips ┆ Payment ┆ Year ┆ Month ┆ Taxi │\n",
       "│ --- ┆ ---    ┆ ---  ┆ ---     ┆ ---  ┆ ---   ┆ ---  │\n",
       "│ i64 ┆ i64    ┆ i64  ┆ i64     ┆ i64  ┆ i64   ┆ str  │\n",
       "╞═════╪════════╪══════╪═════════╪══════╪═══════╪══════╡\n",
       "│ 7   ┆ 3      ┆ 6    ┆ 8       ┆ 2009 ┆ 2     ┆ A    │\n",
       "│ 8   ┆ 4      ┆ 7    ┆ 9       ┆ 2009 ┆ 2     ┆ A    │\n",
       "│ 9   ┆ 5      ┆ 8    ┆ 10      ┆ 2009 ┆ 2     ┆ A    │\n",
       "│ 7   ┆ 3      ┆ 6    ┆ 8       ┆ 2009 ┆ 1     ┆ A    │\n",
       "│ 8   ┆ 4      ┆ 7    ┆ 9       ┆ 2009 ┆ 1     ┆ A    │\n",
       "│ …   ┆ …      ┆ …    ┆ …       ┆ …    ┆ …     ┆ …    │\n",
       "│ 8   ┆ 4      ┆ 7    ┆ 9       ┆ 2011 ┆ 1     ┆ C    │\n",
       "│ 9   ┆ 5      ┆ 8    ┆ 10      ┆ 2011 ┆ 1     ┆ C    │\n",
       "│ 7   ┆ 3      ┆ 6    ┆ 8       ┆ 2011 ┆ 3     ┆ C    │\n",
       "│ 8   ┆ 4      ┆ 7    ┆ 9       ┆ 2011 ┆ 3     ┆ C    │\n",
       "│ 9   ┆ 5      ┆ 8    ┆ 10      ┆ 2011 ┆ 3     ┆ C    │\n",
       "└─────┴────────┴──────┴─────────┴──────┴───────┴──────┘"
      ]
     },
     "execution_count": 2,
     "metadata": {},
     "output_type": "execute_result"
    }
   ],
   "source": [
    "df"
   ]
  },
  {
   "cell_type": "code",
   "execution_count": 3,
   "id": "31e9822a-718a-4c96-a45f-ed9bd0aa08ba",
   "metadata": {},
   "outputs": [
    {
     "data": {
      "text/plain": [
       "81"
      ]
     },
     "execution_count": 3,
     "metadata": {},
     "output_type": "execute_result"
    }
   ],
   "source": [
    "len(df)"
   ]
  },
  {
   "cell_type": "code",
   "execution_count": null,
   "id": "4c0862f9-6323-40d7-8f2d-74038103a557",
   "metadata": {},
   "outputs": [],
   "source": [
    "df2 = pl.read_excel(\"taxi/*/*/*.xlsx\") "
   ]
  }
 ],
 "metadata": {
  "kernelspec": {
   "display_name": "Python 3 (ipykernel)",
   "language": "python",
   "name": "python3"
  },
  "language_info": {
   "codemirror_mode": {
    "name": "ipython",
    "version": 3
   },
   "file_extension": ".py",
   "mimetype": "text/x-python",
   "name": "python",
   "nbconvert_exporter": "python",
   "pygments_lexer": "ipython3",
   "version": "3.12.11"
  }
 },
 "nbformat": 4,
 "nbformat_minor": 5
}
