{
 "cells": [
  {
   "cell_type": "markdown",
   "id": "0672e723-42b6-4042-86a3-375fb1e46d72",
   "metadata": {},
   "source": [
    "# 1. Convert Excel File to CSV File"
   ]
  },
  {
   "cell_type": "code",
   "execution_count": 3,
   "id": "e2616ea8-d89b-4144-8b22-adad58b9863b",
   "metadata": {},
   "outputs": [
    {
     "name": "stdout",
     "output_type": "stream",
     "text": [
      "Converted: C:\\Users\\ekadw\\Documents\\DATA\\Example\\csv_to_parquet\\april-04.xlsx -> C:\\Users\\ekadw\\Documents\\DATA\\Example\\csv_to_parquet\\excel_to_csv\\april-04.csv\n",
      "Converted: C:\\Users\\ekadw\\Documents\\DATA\\Example\\csv_to_parquet\\february-02.xlsx -> C:\\Users\\ekadw\\Documents\\DATA\\Example\\csv_to_parquet\\excel_to_csv\\february-02.csv\n",
      "Converted: C:\\Users\\ekadw\\Documents\\DATA\\Example\\csv_to_parquet\\january-01.xlsx -> C:\\Users\\ekadw\\Documents\\DATA\\Example\\csv_to_parquet\\excel_to_csv\\january-01.csv\n",
      "Converted: C:\\Users\\ekadw\\Documents\\DATA\\Example\\csv_to_parquet\\march-03.xlsx -> C:\\Users\\ekadw\\Documents\\DATA\\Example\\csv_to_parquet\\excel_to_csv\\march-03.csv\n",
      "Converted: C:\\Users\\ekadw\\Documents\\DATA\\Example\\csv_to_parquet\\may-05.xlsx -> C:\\Users\\ekadw\\Documents\\DATA\\Example\\csv_to_parquet\\excel_to_csv\\may-05.csv\n"
     ]
    }
   ],
   "source": [
    "import polars as pl\n",
    "import glob\n",
    "import os\n",
    "\n",
    "# Folder containing excel files\n",
    "input_folder = r\"C:\\Users\\ekadw\\Documents\\DATA\\Example\\csv_to_parquet\"\n",
    "output_folder = r\"C:\\Users\\ekadw\\Documents\\DATA\\Example\\csv_to_parquet\\excel_to_csv\"\n",
    "\n",
    "# Create output folder if it doesn't exist\n",
    "os.makedirs(output_folder, exist_ok=True)\n",
    "\n",
    "# Loop over all excel files\n",
    "for excel_file in glob.glob(os.path.join(input_folder, \"*.xlsx\")):\n",
    "    # Read excel into Polars DataFrame\n",
    "    df = pl.read_excel(excel_file)\n",
    "    \n",
    "    # Build output filename with .csv extension\n",
    "    base_name = os.path.splitext(os.path.basename(excel_file))[0]\n",
    "    csv_file = os.path.join(output_folder, f\"{base_name}.csv\")\n",
    "    \n",
    "    # Write to csv\n",
    "    df.write_csv(csv_file)\n",
    "    print(f\"Converted: {excel_file} -> {csv_file}\")\n"
   ]
  },
  {
   "cell_type": "markdown",
   "id": "1c1786ec-24d2-4963-8d83-f5d9ca9c0bd5",
   "metadata": {},
   "source": [
    "# 2. Convert CSV File to Parquet File"
   ]
  },
  {
   "cell_type": "code",
   "execution_count": 5,
   "id": "93cb7ed2-2d06-401b-a82e-c627fb4ee99e",
   "metadata": {},
   "outputs": [
    {
     "name": "stdout",
     "output_type": "stream",
     "text": [
      "Converted: C:\\Users\\ekadw\\Documents\\DATA\\Example\\csv_to_parquet\\excel_to_csv\\april-04.csv -> C:\\Users\\ekadw\\Documents\\DATA\\Example\\csv_to_parquet\\csv_to_parquet\\april-04.parquet\n",
      "Converted: C:\\Users\\ekadw\\Documents\\DATA\\Example\\csv_to_parquet\\excel_to_csv\\february-02.csv -> C:\\Users\\ekadw\\Documents\\DATA\\Example\\csv_to_parquet\\csv_to_parquet\\february-02.parquet\n",
      "Converted: C:\\Users\\ekadw\\Documents\\DATA\\Example\\csv_to_parquet\\excel_to_csv\\january-01.csv -> C:\\Users\\ekadw\\Documents\\DATA\\Example\\csv_to_parquet\\csv_to_parquet\\january-01.parquet\n",
      "Converted: C:\\Users\\ekadw\\Documents\\DATA\\Example\\csv_to_parquet\\excel_to_csv\\march-03.csv -> C:\\Users\\ekadw\\Documents\\DATA\\Example\\csv_to_parquet\\csv_to_parquet\\march-03.parquet\n",
      "Converted: C:\\Users\\ekadw\\Documents\\DATA\\Example\\csv_to_parquet\\excel_to_csv\\may-05.csv -> C:\\Users\\ekadw\\Documents\\DATA\\Example\\csv_to_parquet\\csv_to_parquet\\may-05.parquet\n"
     ]
    }
   ],
   "source": [
    "# Folder containing CSV files\n",
    "input_folder = r\"C:\\Users\\ekadw\\Documents\\DATA\\Example\\csv_to_parquet\\excel_to_csv\"\n",
    "output_folder = r\"C:\\Users\\ekadw\\Documents\\DATA\\Example\\csv_to_parquet\\csv_to_parquet\"\n",
    "\n",
    "# Create output folder if it doesn't exist\n",
    "os.makedirs(output_folder, exist_ok=True)\n",
    "\n",
    "# Loop over all CSV files\n",
    "for csv_file in glob.glob(os.path.join(input_folder, \"*.csv\")):\n",
    "    # Read CSV into Polars DataFrame\n",
    "    df = pl.read_csv(csv_file)\n",
    "    \n",
    "    # Build output filename with .parquet extension\n",
    "    base_name = os.path.splitext(os.path.basename(csv_file))[0]\n",
    "    parquet_file = os.path.join(output_folder, f\"{base_name}.parquet\")\n",
    "    \n",
    "    # Write to parquet\n",
    "    df.write_parquet(parquet_file)\n",
    "    print(f\"Converted: {csv_file} -> {parquet_file}\")"
   ]
  },
  {
   "cell_type": "code",
   "execution_count": null,
   "id": "68d245e9-8a5c-45b3-9a46-669417083f82",
   "metadata": {},
   "outputs": [],
   "source": []
  }
 ],
 "metadata": {
  "kernelspec": {
   "display_name": "Python 3 (ipykernel)",
   "language": "python",
   "name": "python3"
  },
  "language_info": {
   "codemirror_mode": {
    "name": "ipython",
    "version": 3
   },
   "file_extension": ".py",
   "mimetype": "text/x-python",
   "name": "python",
   "nbconvert_exporter": "python",
   "pygments_lexer": "ipython3",
   "version": "3.12.11"
  }
 },
 "nbformat": 4,
 "nbformat_minor": 5
}
