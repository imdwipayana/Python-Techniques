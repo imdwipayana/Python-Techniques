{
 "cells": [
  {
   "cell_type": "code",
   "execution_count": 1,
   "id": "f97aeeeb-5e6a-4f4f-9343-e9f94dc19407",
   "metadata": {},
   "outputs": [],
   "source": [
    "import pandas as pd\n",
    "pd.set_option('display.max_columns', 100)\n",
    "import glob\n",
    "file = glob.glob('data/inflammation_*.csv')"
   ]
  },
  {
   "cell_type": "code",
   "execution_count": 3,
   "id": "0245e7b2-99a7-4e3b-b6c9-fde89285608e",
   "metadata": {},
   "outputs": [
    {
     "name": "stdout",
     "output_type": "stream",
     "text": [
      "Loading data\\inflammation_01.csv\n",
      "Loading data\\inflammation_02.csv\n",
      "Loading data\\inflammation_03.csv\n",
      "Loading data\\inflammation_04.csv\n",
      "Loading data\\inflammation_05.csv\n",
      "Loading data\\inflammation_06.csv\n",
      "Loading data\\inflammation_07.csv\n",
      "Loading data\\inflammation_08.csv\n",
      "Loading data\\inflammation_09.csv\n",
      "Loading data\\inflammation_10.csv\n",
      "Loading data\\inflammation_11.csv\n",
      "Loading data\\inflammation_12.csv\n"
     ]
    }
   ],
   "source": [
    "all_dfs = []\n",
    "for one_filename in file:\n",
    "    print(f'Loading {one_filename}')\n",
    "    new_df = pd.read_csv(one_filename, header = None)\n",
    "    all_dfs.append(new_df)"
   ]
  },
  {
   "cell_type": "code",
   "execution_count": 5,
   "id": "742ad307-2850-4ff2-84b5-2ed70e39b93e",
   "metadata": {},
   "outputs": [],
   "source": [
    "total_data = pd.concat(all_dfs)"
   ]
  },
  {
   "cell_type": "code",
   "execution_count": 7,
   "id": "7c261bf5-ceed-4a13-8a1d-1690af0f8a34",
   "metadata": {},
   "outputs": [],
   "source": [
    "# the code above can be written as simpler code as following:\n",
    "all_data = pd.concat([\n",
    "    pd.read_csv(one_filename, header = None) for one_filename in file\n",
    "])"
   ]
  },
  {
   "cell_type": "code",
   "execution_count": null,
   "id": "c92eb8e8-6feb-46f0-a449-e423db84321d",
   "metadata": {},
   "outputs": [],
   "source": []
  }
 ],
 "metadata": {
  "kernelspec": {
   "display_name": "Python [conda env:anaconda3-BookTimeSeries]",
   "language": "python",
   "name": "conda-env-anaconda3-BookTimeSeries-py"
  },
  "language_info": {
   "codemirror_mode": {
    "name": "ipython",
    "version": 3
   },
   "file_extension": ".py",
   "mimetype": "text/x-python",
   "name": "python",
   "nbconvert_exporter": "python",
   "pygments_lexer": "ipython3",
   "version": "3.12.9"
  }
 },
 "nbformat": 4,
 "nbformat_minor": 5
}
