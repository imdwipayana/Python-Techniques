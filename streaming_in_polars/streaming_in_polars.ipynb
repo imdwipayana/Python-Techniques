{
 "cells": [
  {
   "cell_type": "code",
   "execution_count": 1,
   "id": "44fc3804-cd60-4810-8d7d-f14cefaa2afe",
   "metadata": {},
   "outputs": [],
   "source": [
    "import polars as pl\n",
    "import glob\n",
    "import os"
   ]
  },
  {
   "cell_type": "code",
   "execution_count": 2,
   "id": "02ef2cdd-6d68-4dcf-b188-ec156e1a77fc",
   "metadata": {},
   "outputs": [],
   "source": [
    "# Take a chunk of monthly data in 2009\n",
    "saved_folder = r\"C:\\Users\\ekadw\\Documents\\GitHub\\DATA\\streaming_in_polars\""
   ]
  },
  {
   "cell_type": "code",
   "execution_count": 3,
   "id": "d2eb6462-b7b9-417e-a9db-8942bd04cd41",
   "metadata": {},
   "outputs": [],
   "source": [
    "data_jan_5000 = pl.scan_parquet(r\"C:\\Users\\ekadw\\Documents\\DATA\\NY_Taxi\\2009\\yellow_taxi\\yellow_tripdata_2009-01.parquet\")\n",
    "data_jan_5000 = data_jan_5000.head(5000).collect()\n",
    "parquet_file_jan = os.path.join(saved_folder, \"data_jan_2009.parquet\")\n",
    "data_jan_5000.write_parquet(parquet_file_jan)\n",
    "\n",
    "data_feb_5000 = pl.scan_parquet(r\"C:\\Users\\ekadw\\Documents\\DATA\\NY_Taxi\\2009\\yellow_taxi\\yellow_tripdata_2009-02.parquet\")\n",
    "data_feb_5000 = data_feb_5000.head(5000).collect()\n",
    "parquet_file_feb = os.path.join(saved_folder, \"data_feb_2009.parquet\")\n",
    "data_feb_5000.write_parquet(parquet_file_feb)\n",
    "\n",
    "data_mar_5000 = pl.scan_parquet(r\"C:\\Users\\ekadw\\Documents\\DATA\\NY_Taxi\\2009\\yellow_taxi\\yellow_tripdata_2009-03.parquet\")\n",
    "data_mar_5000 = data_mar_5000.head(5000).collect()\n",
    "parquet_file_mar = os.path.join(saved_folder, \"data_mar_2009.parquet\")\n",
    "data_mar_5000.write_parquet(parquet_file_mar)"
   ]
  },
  {
   "cell_type": "code",
   "execution_count": 4,
   "id": "6a9fe21b-7e2f-431c-a239-4bdf806d1f6d",
   "metadata": {},
   "outputs": [],
   "source": [
    "files = glob.glob(r\"C:\\Users\\ekadw\\Documents\\GitHub\\DATA\\streaming_in_polars\\*.parquet\", recursive=True)\n",
    "all_data = pl.scan_parquet(files)"
   ]
  },
  {
   "cell_type": "code",
   "execution_count": 5,
   "id": "dada9da8-2007-43e5-bb2d-27a65b0579ab",
   "metadata": {},
   "outputs": [],
   "source": [
    "mapping = {\n",
    "    \"Credit\": 0,\n",
    "    \"CREDIT\": 0,\n",
    "    \"CASH\": 1,\n",
    "    \"Cash\": 1,\n",
    "    \"No Charge\": 2,\n",
    "    \"Dispute\": 3\n",
    "}"
   ]
  },
  {
   "cell_type": "code",
   "execution_count": 6,
   "id": "ebe2ed48-734d-49f0-acb7-0fc76bf89382",
   "metadata": {},
   "outputs": [],
   "source": [
    "all_data = (\n",
    "    all_data.select([\"Trip_Pickup_DateTime\", \"Trip_Dropoff_DateTime\", \"Passenger_Count\", \"Trip_Distance\", \"Payment_Type\",\n",
    "                        \"Fare_Amt\", \"Tip_Amt\"])\n",
    "               .filter((pl.col(\"Passenger_Count\") >= 0) & (pl.col(\"Trip_Distance\") >= 0) & (pl.col(\"Trip_Distance\") <= 50) & \n",
    "                       (pl.col(\"Fare_Amt\") >= 0) & (pl.col(\"Tip_Amt\") >= 0))\n",
    "               .with_columns(\n",
    "                       pl.col(\"Payment_Type\").replace(mapping))\n",
    "               .with_columns(\n",
    "                       pl.col(\"Payment_Type\").cast(pl.Int64))\n",
    "               .filter(\n",
    "                       pl.col(\"Payment_Type\") == 0)\n",
    "               .with_columns([\n",
    "                       pl.col(\"Trip_Pickup_DateTime\").str.strptime(pl.Datetime, format=\"%Y-%m-%d %H:%M:%S\"),\n",
    "                       pl.col(\"Trip_Dropoff_DateTime\").str.strptime(pl.Datetime, format=\"%Y-%m-%d %H:%M:%S\"),\n",
    "                       pl.col(\"Payment_Type\").cast(pl.Int64)])\n",
    "               .with_columns(\n",
    "                       ((pl.col(\"Trip_Dropoff_DateTime\") - pl.col(\"Trip_Pickup_DateTime\")).dt.total_seconds() / 86400)\n",
    "                               .cast(pl.Int64)\n",
    "                               .alias(\"Duration_Days\"))\n",
    "               .filter(\n",
    "                       (pl.col(\"Duration_Days\") == 0))\n",
    "               .with_columns(\n",
    "                       ((pl.col(\"Trip_Dropoff_DateTime\") - pl.col(\"Trip_Pickup_DateTime\")).dt.total_seconds())\n",
    "                               .cast(pl.Int64)\n",
    "                               .alias(\"Duration_Seconds\"))\n",
    "               .with_columns(\n",
    "                       pl.when(pl.col(\"Tip_Amt\") <= 0.0).then(1)\n",
    "                               .otherwise(0)\n",
    "                               .alias(\"Tip_Category\"))\n",
    "               .select([\"Passenger_Count\", \"Trip_Distance\", \"Fare_Amt\", \"Duration_Seconds\", \"Tip_Category\"])\n",
    ")"
   ]
  },
  {
   "cell_type": "code",
   "execution_count": 9,
   "id": "58ef743f-3497-49a5-ac4f-969d08f47f62",
   "metadata": {},
   "outputs": [
    {
     "name": "stdout",
     "output_type": "stream",
     "text": [
      "Accuracy : 0.9486033519553073\n",
      "Precision: 0.045454545454545456\n",
      "Recall   : 0.024193548387096774\n",
      "F1 Score : 0.031578947368421054\n"
     ]
    }
   ],
   "source": [
    "import polars as pl\n",
    "from sklearn.linear_model import SGDClassifier\n",
    "from sklearn.metrics import accuracy_score, precision_score, recall_score, f1_score, roc_curve, roc_auc_score\n",
    "import numpy as np\n",
    "import matplotlib.pyplot as plt\n",
    "\n",
    "clf = SGDClassifier(loss=\"log_loss\")\n",
    "\n",
    "batch_size = 1000\n",
    "start = 0\n",
    "\n",
    "# --- Train model in batches ---\n",
    "while True:\n",
    "    df = all_data.slice(start, batch_size).collect()\n",
    "    if df.height == 0:\n",
    "        break\n",
    "\n",
    "    y = df[\"Tip_Category\"].to_numpy()\n",
    "    X = df.drop(\"Tip_Category\").to_numpy()\n",
    "\n",
    "    if start == 0:\n",
    "        clf.partial_fit(X, y, classes=np.unique(y))\n",
    "    else:\n",
    "        clf.partial_fit(X, y)\n",
    "    \n",
    "    start += batch_size\n",
    "\n",
    "# --- Evaluate after training ---\n",
    "y_true_list = []\n",
    "y_score_list = []  # will store probabilities for ROC\n",
    "\n",
    "start = 0\n",
    "while True:\n",
    "    df = all_data.slice(start, batch_size).collect()\n",
    "    if df.height == 0:\n",
    "        break\n",
    "\n",
    "    y = df[\"Tip_Category\"].to_numpy()\n",
    "    X = df.drop(\"Tip_Category\").to_numpy()\n",
    "    \n",
    "    proba = clf.predict_proba(X)        # get probabilities\n",
    "    y_score = proba[:, 1]               # use class 1 prob if binary\n",
    "    \n",
    "    y_true_list.append(y)\n",
    "    y_score_list.append(y_score)\n",
    "    \n",
    "    start += batch_size\n",
    "\n",
    "# Combine all batches\n",
    "y_true = np.concatenate(y_true_list)\n",
    "y_score = np.concatenate(y_score_list)\n",
    "\n",
    "# --- Classification metrics ---\n",
    "y_pred = (y_score >= 0.5).astype(int)  # hard labels for metrics\n",
    "\n",
    "acc = accuracy_score(y_true, y_pred)\n",
    "prec = precision_score(y_true, y_pred, average=\"binary\")\n",
    "rec = recall_score(y_true, y_pred, average=\"binary\")\n",
    "f1 = f1_score(y_true, y_pred, average=\"binary\")\n",
    "\n",
    "print(\"Accuracy :\", acc)\n",
    "print(\"Precision:\", prec)\n",
    "print(\"Recall   :\", rec)\n",
    "print(\"F1 Score :\", f1)"
   ]
  },
  {
   "cell_type": "code",
   "execution_count": 10,
   "id": "ba452f32-0d32-4968-a382-2d241025080b",
   "metadata": {},
   "outputs": [
    {
     "data": {
      "image/png": "[encoded data removed]",
      "text/plain": [
       "<Figure size 600x600 with 1 Axes>"
      ]
     },
     "metadata": {},
     "output_type": "display_data"
    }
   ],
   "source": [
    "# --- ROC curve plot ---\n",
    "fpr, tpr, _ = roc_curve(y_true, y_score)\n",
    "roc_auc = roc_auc_score(y_true, y_score)\n",
    "\n",
    "plt.figure(figsize=(6,6))\n",
    "plt.plot(fpr, tpr, color=\"blue\", label=f\"ROC curve (AUC = {roc_auc:.2f})\")\n",
    "plt.plot([0, 1], [0, 1], color=\"gray\", linestyle=\"--\")\n",
    "plt.xlim([0.0, 1.0])\n",
    "plt.ylim([0.0, 1.05])\n",
    "plt.xlabel(\"False Positive Rate\")\n",
    "plt.ylabel(\"True Positive Rate\")\n",
    "plt.title(\"Receiver Operating Characteristic (ROC)\")\n",
    "plt.legend(loc=\"lower right\")\n",
    "plt.grid(True)\n",
    "plt.show()"
   ]
  },
  {
   "cell_type": "code",
   "execution_count": null,
   "id": "837dbffc-e5c5-45ef-9de3-3b709036e98c",
   "metadata": {},
   "outputs": [],
   "source": []
  }
 ],
 "metadata": {
  "kernelspec": {
   "display_name": "Python 3 (ipykernel)",
   "language": "python",
   "name": "python3"
  },
  "language_info": {
   "codemirror_mode": {
    "name": "ipython",
    "version": 3
   },
   "file_extension": ".py",
   "mimetype": "text/x-python",
   "name": "python",
   "nbconvert_exporter": "python",
   "pygments_lexer": "ipython3",
   "version": "3.12.11"
  }
 },
 "nbformat": 4,
 "nbformat_minor": 5
}
